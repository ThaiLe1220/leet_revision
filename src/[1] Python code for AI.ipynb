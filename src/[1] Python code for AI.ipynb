{
 "cells": [
  {
   "cell_type": "markdown",
   "metadata": {},
   "source": [
    "## Features of Python\n",
    "\n",
    "### Lists, Tuples, Sets, Dictionaries and Comprehensions\n",
    "\n",
    "One of the nice features of Python is the use of comprehensions (and also\n",
    "list, tuple, set and dictionary comprehensions). A generator expression is of\n",
    "the form\n",
    "\n",
    "<pre><code style=\"font-size: 16px;\">(fe for e in iter if cond)</code></pre>\n",
    "- `fe`: **F**ormula or **F**unction applied to each element.\n",
    "- `for e in iter`: **F**or each element `e` in the **iterable** `iter`.\n",
    "- `if cond`: **C**ondition to **filter** elements."
   ]
  },
  {
   "cell_type": "code",
   "execution_count": 80,
   "metadata": {},
   "outputs": [
    {
     "data": {
      "text/plain": [
       "[0, 4, 16, 36, 64, 100, 144, 196, 256, 324]"
      ]
     },
     "execution_count": 80,
     "metadata": {},
     "output_type": "execute_result"
    }
   ],
   "source": [
    "a = (e * e for e in range(20) if e % 2 == 0)\n",
    "list(a)\n",
    "\n",
    "# [e * e for e in range(20) if e % 2 == 0]"
   ]
  },
  {
   "cell_type": "code",
   "execution_count": 48,
   "metadata": {},
   "outputs": [
    {
     "name": "stdout",
     "output_type": "stream",
     "text": [
      "{'a': 4, 'f': 1, 'bar': 2, 'b': 3, 'aaaaa': 5}\n",
      "['a', 'f', 'bar', 'b', 'a', 'aaaaa']\n",
      "{'bar', 'f', 'a', 'b', 'aaaaa'}\n",
      "{'a': 4, 'f': 1, 'bar': 2, 'b': 3, 'aaaaa': 5}\n"
     ]
    }
   ],
   "source": [
    "a = [\"a\", \"f\", \"bar\", \"b\", \"a\", \"aaaaa\"]\n",
    "ind = {a[i]: i for i in range(len(a))}\n",
    "ind_1 = [a[i] for i in range(len(a))]\n",
    "ind_2 = {a[i] for i in range(len(a))}\n",
    "\n",
    "print(ind)\n",
    "print(ind_1)\n",
    "print(ind_2)\n",
    "\n",
    "ind = {val: i for (i, val) in enumerate(a)}\n",
    "print(ind)"
   ]
  },
  {
   "cell_type": "markdown",
   "metadata": {},
   "source": [
    "### Functions as first-class objects\n",
    "\n",
    "Python can create lists and other data structures that contain functions. There is an issue that tricks many newcomers to Python. For a local variable in a function, the function uses the last value of the variable when the function is called, not the value of the variable when the function was defined"
   ]
  },
  {
   "cell_type": "code",
   "execution_count": 61,
   "metadata": {},
   "outputs": [
    {
     "name": "stdout",
     "output_type": "stream",
     "text": [
      "[6, 6, 6, 6, 6]\n",
      "[2, 3, 4, 5, 6]\n",
      "[6, 6, 6, 6, 6]\n",
      "[2, 3, 4, 5, 6]\n"
     ]
    }
   ],
   "source": [
    "fun_list1 = []\n",
    "for i in range(5):\n",
    "\n",
    "    def fun1(e):\n",
    "        return e + i\n",
    "\n",
    "    fun_list1.append(fun1)\n",
    "\n",
    "fun_list2 = []\n",
    "for i in range(5):\n",
    "\n",
    "    def fun2(e, i=i):\n",
    "        return e + i\n",
    "\n",
    "    fun_list2.append(fun2)\n",
    "\n",
    "fun_list3 = [lambda e: e + i for i in range(5)]\n",
    "fun_list4 = [lambda e, i=i: e + i for i in range(5)]\n",
    "\n",
    "\n",
    "print([f(2) for f in fun_list1])  # fun1 uses late binding\n",
    "print([f(2) for f in fun_list2])  # fun2 uses early binding\n",
    "print([f(2) for f in fun_list3])  # <=> fun 1\n",
    "print([f(2) for f in fun_list4])  # <=> fun 2"
   ]
  },
  {
   "cell_type": "markdown",
   "metadata": {},
   "source": [
    "### Generators\n",
    "\n",
    "Python has generators which can be used for a form of lazy evaluation – only computing values when needed."
   ]
  },
  {
   "cell_type": "code",
   "execution_count": 77,
   "metadata": {},
   "outputs": [
    {
     "name": "stdout",
     "output_type": "stream",
     "text": [
      "[2, 5, 8, 11, 14, 17]\n",
      "[2, 5, 8, 11, 14, 17]\n",
      "8\n"
     ]
    }
   ],
   "source": [
    "def myrange(start, stop, step=1):\n",
    "    \"\"\"enumerates the values from the start in steps of size step that are less than stop\"\"\"\n",
    "    assert step > 0, f\"positive steps only, your step: {step}\"\n",
    "    i = start\n",
    "    while i < stop:\n",
    "        yield i\n",
    "        i += step\n",
    "\n",
    "\n",
    "print(list(myrange(2, 20, 3)))\n",
    "print(list(range(2, 20, 3)))\n",
    "print(range(2, 20, 3)[2])  # return 8\n",
    "# print(myrange(2, 20, 3)[2]) # TypeError: 'generator' object is not subscriptable"
   ]
  },
  {
   "cell_type": "code",
   "execution_count": 81,
   "metadata": {},
   "outputs": [
    {
     "name": "stdout",
     "output_type": "stream",
     "text": [
      "[0, 4, 16, 36, 64, 100, 144, 196, 256, 324]\n"
     ]
    }
   ],
   "source": [
    "def ga(n):\n",
    "    \"\"\"generates square of even nonnegative integers less than n\"\"\"\n",
    "    for e in range(n):\n",
    "        if e % 2 == 0:\n",
    "            yield e * e\n",
    "\n",
    "\n",
    "print(list(ga(20)))"
   ]
  },
  {
   "cell_type": "markdown",
   "metadata": {},
   "source": [
    "## Representing Search Problems\n",
    "\n",
    "A search problem consists of: \n",
    "- a start node\n",
    "- a *neibors* function that given a node, returns an enumeration of the arcs from the nodes\n",
    "- a specification of a goal in terms of a Boolean function that takes a node and returns true if the node is a goal\n",
    "- a (optional) heuristic function that, given a code, returns a non-negative real number. The heuristic function defaults to zero\n",
    "\n",
    "As far as the searcher is concerned a node can be anything. If multiple-path pruning is used, a node must be *hashable*. In the simple examples, it is a string, but in more complicated examples (in later chapters) it can be a tuple, a frozen set, or a Python object. "
   ]
  },
  {
   "cell_type": "code",
   "execution_count": null,
   "metadata": {},
   "outputs": [],
   "source": [
    "# from display import Displayable\n",
    "import matplotlib.pyplot as plt\n",
    "import random\n",
    "\n",
    "\n",
    "# class Search_problem(Displayable):\n",
    "\n",
    "#     def start_node(self):\n",
    "#         raise NotImplementedError(\"start_node\")\n",
    "\n",
    "#     def is_goal(self):\n",
    "#         raise NotImplementedError(\"is_goal\")\n",
    "\n",
    "#     def neighbors(self):\n",
    "#         raise NotImplementedError(\"neighbors\")\n",
    "\n",
    "#     def heuristic(self):\n",
    "#         return 0\n",
    "\n",
    "\n",
    "class Arc(object):\n",
    "    \"\"\"An arc has a from_node and a to_node and a (non-negative) cost\"\"\"\n",
    "\n",
    "    def __init__(self, from_node, to_node, cost=1, action=None):\n",
    "        self.from_node = from_node\n",
    "        self.to_node = to_node\n",
    "        self.action = action\n",
    "        self.cost = cost\n",
    "\n",
    "        assert cost >= 0, f\"No negative Cost: {self}, cost={cost}\"\n",
    "\n",
    "    def __repr__(self):\n",
    "        \"\"\"string representation of an arc\"\"\"\n",
    "        if self.action:\n",
    "            return f\"{self.from_node} --{self.action}--> {self.to_node}\"\n",
    "        else:\n",
    "            return f\"{self.from_node} --> {self.to_node}\""
   ]
  },
  {
   "cell_type": "code",
   "execution_count": null,
   "metadata": {},
   "outputs": [],
   "source": []
  }
 ],
 "metadata": {
  "kernelspec": {
   "display_name": "xenova",
   "language": "python",
   "name": "python3"
  },
  "language_info": {
   "codemirror_mode": {
    "name": "ipython",
    "version": 3
   },
   "file_extension": ".py",
   "mimetype": "text/x-python",
   "name": "python",
   "nbconvert_exporter": "python",
   "pygments_lexer": "ipython3",
   "version": "3.10.12"
  }
 },
 "nbformat": 4,
 "nbformat_minor": 2
}
